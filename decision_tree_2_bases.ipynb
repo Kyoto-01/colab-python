{
  "nbformat": 4,
  "nbformat_minor": 0,
  "metadata": {
    "colab": {
      "provenance": [],
      "authorship_tag": "ABX9TyOBH4BxTG/xsoP9YVZh9QwY",
      "include_colab_link": true
    },
    "kernelspec": {
      "name": "python3",
      "display_name": "Python 3"
    },
    "language_info": {
      "name": "python"
    }
  },
  "cells": [
    {
      "cell_type": "markdown",
      "metadata": {
        "id": "view-in-github",
        "colab_type": "text"
      },
      "source": [
        "<a href=\"https://colab.research.google.com/github/Kyoto-01/colab-python/blob/main/decision_tree_2_bases.ipynb\" target=\"_parent\"><img src=\"https://colab.research.google.com/assets/colab-badge.svg\" alt=\"Open In Colab\"/></a>"
      ]
    },
    {
      "cell_type": "code",
      "execution_count": null,
      "metadata": {
        "id": "Sxie0HiLcc2q"
      },
      "outputs": [],
      "source": [
        "from sklearn import tree\n",
        "from sklearn.model_selection import train_test_split\n",
        "from sklearn import metrics\n",
        "\n",
        "import pandas as pd\n",
        "\n",
        "\n",
        "wineDatasetURL = \"./wine.csv\"\n",
        "\n",
        "dataset = pd.read_csv(wineDatasetURL, header=None)\n",
        "\n",
        "columns = len(dataset.columns)\n",
        "\n",
        "y = dataset[0]\n",
        "x = dataset.loc[:, 1:]"
      ]
    },
    {
      "cell_type": "code",
      "source": [
        "x_train, x_test, y_train, y_test = train_test_split(x, y, test_size=0.2, random_state=None, stratify=y) # 80% p/ treino e 20% p/ teste"
      ],
      "metadata": {
        "id": "NH5_gl2ZeP2M"
      },
      "execution_count": null,
      "outputs": []
    },
    {
      "cell_type": "code",
      "source": [
        "# Treinamento da árvore de decisão\n",
        "#model = tree.DecisionTreeClassifier(criterion=\"entropy\",max_depth=2)\n",
        "model = tree.DecisionTreeClassifier(criterion=\"entropy\")\n",
        "model = model.fit(x_train, y_train)"
      ],
      "metadata": {
        "id": "1GcuGQ0WfDkQ"
      },
      "execution_count": null,
      "outputs": []
    },
    {
      "cell_type": "code",
      "source": [
        "# Teste da árvore de decisão\n",
        "result = model.predict(x_test)\n",
        "acc = metrics.accuracy_score(result, y_test)\n",
        "show = round(acc * 100)\n",
        "\n",
        "print(f\"{show}%\")\n",
        "print(list(result))\n",
        "print(list(y_test))"
      ],
      "metadata": {
        "colab": {
          "base_uri": "https://localhost:8080/"
        },
        "id": "x8qxf6vFfsbr",
        "outputId": "a7a0918b-2a4f-4c7c-aae3-5d2607f10426"
      },
      "execution_count": null,
      "outputs": [
        {
          "output_type": "stream",
          "name": "stdout",
          "text": [
            "94%\n",
            "[3, 2, 3, 2, 1, 3, 3, 2, 2, 2, 1, 2, 2, 2, 3, 2, 3, 1, 3, 2, 1, 1, 3, 2, 2, 2, 1, 2, 3, 1, 1, 1, 2, 1, 2, 3]\n",
            "[3, 1, 3, 2, 1, 3, 3, 2, 2, 1, 1, 2, 2, 2, 3, 2, 3, 1, 3, 2, 1, 1, 3, 2, 2, 2, 1, 2, 3, 1, 1, 1, 2, 1, 2, 3]\n"
          ]
        }
      ]
    }
  ]
}